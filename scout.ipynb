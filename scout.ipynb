{
 "cells": [
  {
   "cell_type": "markdown",
   "id": "af6d741b",
   "metadata": {},
   "source": [
    "# Projeto de Web Scraping para Scouting de Times de Valorant: Análise de Pickrate de Mapas e Agentes\n",
    "\n",
    "**Feito por:** Guilherme Lunetta\n",
    "\n",
    "O crescimento do Valorant como um jogo competitivo de tiro em primeira pessoa tem impulsionado a necessidade de estratégias avançadas para equipes profissionais. Uma das informações mais cruciais para o sucesso de um time é o pickrate (taxa de escolha) de mapas e agentes de cada jogador. Para coletar esses dados de forma eficiente, um projeto de web scraping foi desenvolvido, visando extrair informações relevantes das fontes online disponíveis.\n",
    "\n",
    "O scouting no contexto dos e-sports refere-se ao processo de coletar informações detalhadas e analisar o desempenho de equipes e jogadores profissionais em um determinado jogo eletrônico. Assim como em esportes tradicionais, o scouting nos e-sports é fundamental para entender as estratégias, habilidades e pontos fortes de cada equipe e jogador, a fim de tomar decisões informadas durante competições.\n",
    "\n",
    "Ao coletar e analisar essas informações, os scouts podem identificar as fortalezas e fraquezas de uma equipe, bem como os pontos fortes e fracos individuais de cada jogador. Esses dados são essenciais para a tomada de decisões estratégicas, como a seleção de mapas e agentes, a adaptação às estratégias dos oponentes e o desenvolvimento de táticas personalizadas.\n",
    "\n",
    "Em resumo, o scouting em e-sports é um processo de coleta e análise de informações sobre equipes e jogadores profissionais, visando entender suas estratégias, habilidades e pontos fortes. Essa prática é fundamental para aprimorar a tomada de decisões estratégicas e alcançar o sucesso nas competições de jogos eletrônicos."
   ]
  },
  {
   "cell_type": "code",
   "execution_count": 27,
   "id": "eff8d193",
   "metadata": {},
   "outputs": [],
   "source": [
    "# Importando bibliotecas necessárias para o projeto\n",
    "\n",
    "import requests\n",
    "import time\n",
    "from bs4 import BeautifulSoup as bs\n",
    "import pandas as pd\n",
    "import json\n",
    "import os\n",
    "from IPython.display import display, Markdown"
   ]
  },
  {
   "cell_type": "code",
   "execution_count": 7,
   "id": "b65998f2",
   "metadata": {},
   "outputs": [],
   "source": [
    "# Funções utilizadas ao longo do projeto\n",
    "\n",
    "def extract_bans(bans):\n",
    "    if len(bans) == 2:\n",
    "        bans = bans[1].text.strip()\n",
    "    else:\n",
    "        bans = bans[0].text.strip()\n",
    "        \n",
    "    res_dic = {\n",
    "        \"Bans\": [],\n",
    "        \"Picks\": [],\n",
    "    }\n",
    "    \n",
    "    teams_ban = bans.split(\";\")\n",
    "    for ban in teams_ban:\n",
    "        content = ban.strip().split(\" \")\n",
    "        if content[0] == \"C9\" or content[0] == \"LEV\" or content[0] == \"NRG\":\n",
    "            if content[1] == \"ban\":\n",
    "                res_dic[\"Bans\"].append(content[2])\n",
    "            else:\n",
    "                res_dic[\"Picks\"].append(content[2])\n",
    "    \n",
    "    return res_dic\n",
    "\n",
    "def extract_maps(bans):\n",
    "    if len(bans) == 2:\n",
    "        bans = bans[1].text.strip()\n",
    "    else:\n",
    "        bans = bans[0].text.strip()\n",
    "        \n",
    "    maps = []\n",
    "    \n",
    "    teams_bans = bans.split(\";\")\n",
    "    for ban in teams_bans:\n",
    "        content = ban.strip().split(\" \")\n",
    "        if content[1] == \"pick\":\n",
    "            maps.append(content[2])\n",
    "            \n",
    "        if len(content) == 2:\n",
    "            maps.append(content[0])\n",
    "            \n",
    "    return maps"
   ]
  },
  {
   "cell_type": "code",
   "execution_count": 8,
   "id": "d77a48fb",
   "metadata": {},
   "outputs": [],
   "source": [
    "# URL do site usado no webscrapping\n",
    "\n",
    "base_url = \"https://www.vlr.gg\""
   ]
  },
  {
   "cell_type": "markdown",
   "id": "ffe19094",
   "metadata": {},
   "source": [
    "## Cloud9, os novatos endiabrados\n",
    "\n",
    "O time da Cloud9 no Valorant é uma equipe profissional que compete na região das Américas. No início do semestre, o time teve uma surpresa com a saída do jogador \"yay\", o que exigiu uma reestruturação na formação da equipe. No entanto, ao longo do campeonato VCT Americas, a Cloud9 mostrou um crescimento notável e se estabeleceu como uma grande potência no cenário.\n",
    "\n",
    "Após a mudança em sua formação, a Cloud9 demonstrou resiliência e habilidade para se adaptar rapidamente às adversidades. Com uma combinação de jogadores experientes e talentosos, a equipe começou a construir uma identidade forte e a desenvolver estratégias eficazes.\n",
    "\n",
    "Ao longo do campeonato VCT Americas, a Cloud9 surpreendeu a todos com seu desempenho consistente e seu jogo agressivo. Com táticas bem elaboradas, coordenação eficiente e individualidades brilhantes, o time conquistou vitórias impressionantes contra adversários considerados favoritos."
   ]
  },
  {
   "cell_type": "code",
   "execution_count": 9,
   "id": "dda5903d",
   "metadata": {
    "scrolled": true
   },
   "outputs": [],
   "source": [
    "# Começando scrapping dos dados da Cloud9\n",
    "\n",
    "c9url = \"https://www.vlr.gg/team/matches/188/cloud9\"\n",
    "\n",
    "res = requests.get(c9url)\n",
    "\n",
    "soup = bs(res.text, 'html.parser')"
   ]
  },
  {
   "cell_type": "code",
   "execution_count": 10,
   "id": "4e95ac7b",
   "metadata": {
    "scrolled": true
   },
   "outputs": [],
   "source": [
    "# Escolhendo jogos apenas do VCT Americas (campeonato mais recente)\n",
    "\n",
    "matches = soup.findAll('a', attrs = {'class': 'wf-card fc-flex m-item'})\n",
    "\n",
    "match_links = []\n",
    "\n",
    "for match in matches:\n",
    "    camp = match.find('div', attrs = {'class': 'text-of'}).text.strip().split(\":\")[0]\n",
    "    if camp == \"VCT 2023\":\n",
    "    \tmatch_links.append(base_url + match.get('href'))"
   ]
  },
  {
   "cell_type": "code",
   "execution_count": 11,
   "id": "be75b827",
   "metadata": {
    "scrolled": true
   },
   "outputs": [
    {
     "name": "stdout",
     "output_type": "stream",
     "text": [
      "Raspando informações do jogo: Cloud9 vs NRG Esports\n",
      "Raspando informações do mapa Pearl com id: 123185\n",
      "Raspando informações do mapa Lotus com id: 123186\n",
      "Raspando informações do mapa Haven com id: 123187\n",
      "Raspando informações do jogo: Cloud9 vs Leviatán\n",
      "Raspando informações do mapa Haven com id: 123179\n",
      "Raspando informações do mapa Lotus com id: 123180\n",
      "Raspando informações do mapa Ascent com id: 123181\n",
      "Raspando informações do jogo: Cloud9 vs Evil Geniuses\n",
      "Raspando informações do mapa Fracture com id: 123168\n",
      "Raspando informações do mapa Bind com id: 123169\n",
      "Raspando informações do jogo: Cloud9 vs KRÜ Esports\n",
      "Raspando informações do mapa Lotus com id: 119237\n",
      "Raspando informações do mapa Ascent com id: 119238\n",
      "Raspando informações do mapa Split com id: 119239\n",
      "Raspando informações do jogo: Cloud9 vs Leviatán\n",
      "Raspando informações do mapa Lotus com id: 119040\n",
      "Raspando informações do mapa Haven com id: 119041\n",
      "Raspando informações do jogo: Cloud9 vs MIBR\n",
      "Raspando informações do mapa Split com id: 119016\n",
      "Raspando informações do mapa Lotus com id: 119017\n",
      "Raspando informações do jogo: Cloud9 vs Sentinels\n",
      "Raspando informações do mapa Lotus com id: 119004\n",
      "Raspando informações do mapa Fracture com id: 119005\n",
      "Raspando informações do jogo: Cloud9 vs FURIA\n",
      "Raspando informações do mapa Ascent com id: 118992\n",
      "Raspando informações do mapa Fracture com id: 118993\n",
      "Raspando informações do jogo: Cloud9 vs NRG Esports\n",
      "Raspando informações do mapa Haven com id: 118980\n",
      "Raspando informações do mapa Pearl com id: 118981\n",
      "Raspando informações do mapa Ascent com id: 118982\n",
      "Raspando informações do jogo: Cloud9 vs 100 Thieves\n",
      "Raspando informações do mapa Lotus com id: 118953\n",
      "Raspando informações do mapa Ascent com id: 118954\n",
      "Raspando informações do jogo: Cloud9 vs LOUD\n",
      "Raspando informações do mapa Split com id: 118938\n",
      "Raspando informações do mapa Ascent com id: 118939\n",
      "Raspando informações do mapa Pearl com id: 118940\n",
      "Raspando informações do jogo: Cloud9 vs Evil Geniuses\n",
      "Raspando informações do mapa Pearl com id: 118932\n",
      "Raspando informações do mapa Fracture com id: 118933\n"
     ]
    }
   ],
   "source": [
    "# Entrando em cada jogo e coletando as informações necessárias\n",
    "\n",
    "c9_games = {}\n",
    "for link in match_links: \n",
    "    r = requests.get(link)\n",
    "    soup = bs(r.text, 'html.parser')\n",
    "    \n",
    "    date = soup.find('div', {'class': 'moment-tz-convert'}).text.strip()\n",
    "    home_team = soup.find('div', {'class': 'match-header-link-name mod-1'}).find_all('div')[0].text.strip()\n",
    "    away_team = soup.find('div', {'class': 'match-header-link-name mod-2'}).find_all('div')[0].text.strip()\n",
    "    \n",
    "    is_c9_away = True\n",
    "    if home_team == \"Cloud9\":\n",
    "        opponent = away_team\n",
    "        is_c9_away = False\n",
    "    else:\n",
    "        opponent = home_team\n",
    "        \n",
    "    print(f\"Raspando informações do jogo: Cloud9 vs {opponent}\")\n",
    "    \n",
    "    bans = soup.find_all('div', attrs = {'class': 'match-header-note'})\n",
    "    c9_bans = extract_bans(bans)\n",
    "    \n",
    "    if home_team == \"Cloud9\":\n",
    "        c9_score = soup.find('div', {'class': 'js-spoiler'}).find_all('span')[0].text.strip()\n",
    "        opponent_score = soup.find('div', {'class': 'js-spoiler'}).find_all('span')[2].text.strip()\n",
    "    else:\n",
    "        c9_score = soup.find('div', {'class': 'js-spoiler'}).find_all('span')[2].text.strip()\n",
    "        opponent_score = soup.find('div', {'class': 'js-spoiler'}).find_all('span')[0].text.strip()\n",
    "    \n",
    "    games = int(c9_score) + int(opponent_score) \n",
    "    first_map_id = int(soup.find('div', {'class': 'vm-stats-gamesnav-item js-map-switch'}).get('data-game-id'))\n",
    "    \n",
    "    maps = extract_maps(bans)\n",
    "    \n",
    "    maps_info = {}\n",
    "    \n",
    "    i = 0\n",
    "    for gid in range(first_map_id, first_map_id+games):\n",
    "        map_info = {}\n",
    "        print(f\"Raspando informações do mapa {maps[i]} com id: {gid}\")\n",
    "        \n",
    "        map_url = f\"{link}/?game={gid}&tab=overview\"\n",
    "        r = requests.get(map_url)\n",
    "        soup = bs(r.text, 'html.parser')\n",
    "        \n",
    "        map_name = soup.find('div', attrs = {'class': 'map'}).find_all('span')[0].text.strip()\n",
    "        \n",
    "        c9_rounds = soup.find('div', attrs = {'class': 'score mod-win'}).text.strip()\n",
    "        opponent_rounds = soup.find('div', attrs = {'class': 'score'}).text.strip()\n",
    "        \n",
    "        tables = soup.find_all('table', {'class': 'wf-table-inset mod-overview'})\n",
    "        \n",
    "        if is_c9_away:\n",
    "            team = tables[1].find('tbody')\n",
    "        else:\n",
    "            team = tables[0].find('tbody')\n",
    "        \n",
    "        for tr in team.find_all('tr'):\n",
    "            player = tr.find('td', attrs = {'class': 'mod-player'}).find('div', attrs = {'class': 'text-of'}).text.strip()\n",
    "            agent = tr.find('td', attrs = {'class': 'mod-agents'}).find('img').get('title')\n",
    "            map_info[player] = agent\n",
    "            \n",
    "        maps_info[maps[i]] = map_info\n",
    "        \n",
    "        i+=1\n",
    "        time.sleep(1)\n",
    "        \n",
    "    c9_games[f\"cloud9-{opponent.lower().replace('á', 'a')}\"] = maps_info"
   ]
  },
  {
   "cell_type": "code",
   "execution_count": 12,
   "id": "5bb0ae58",
   "metadata": {},
   "outputs": [],
   "source": [
    "# Salvando as informações da C9 em um arquivo JSON\n",
    "\n",
    "with open(\"cloud9.json\", \"w\") as f:\n",
    "    json.dump(c9_games, f, indent=2)"
   ]
  },
  {
   "cell_type": "markdown",
   "id": "d67203b9",
   "metadata": {},
   "source": [
    "## Leviatán, o super time da América Latina\n",
    "\n",
    "A Leviatan é uma equipe proeminente no cenário competitivo de Valorant. Com jogadores talentosos e uma abordagem estratégica excepcional, a Leviatan se destaca como uma das potências do jogo.\n",
    "\n",
    "Desde sua formação, a Leviatan tem demonstrado uma notável consistência e habilidade em se adaptar às demandas do jogo. Com uma abordagem agressiva e táticas bem planejadas, a equipe conquistou vitórias impressionantes em várias competições importantes.\n",
    "\n",
    "O sucesso da Leviatan pode ser atribuído não apenas às habilidades individuais de seus jogadores, mas também à coesão do time como um todo. A comunicação efetiva e o trabalho em equipe são características marcantes da Leviatan, o que lhes permite tomar decisões rápidas e estratégicas durante as partidas."
   ]
  },
  {
   "cell_type": "code",
   "execution_count": 13,
   "id": "342f4eff",
   "metadata": {},
   "outputs": [],
   "source": [
    "# Scrapping dos dados da Leviatán\n",
    "\n",
    "levurl = \"https://www.vlr.gg/team/matches/2359/leviat-n/\"\n",
    "\n",
    "res = requests.get(levurl)\n",
    "\n",
    "soup = bs(res.text, 'html.parser')"
   ]
  },
  {
   "cell_type": "code",
   "execution_count": 14,
   "id": "abd3e49a",
   "metadata": {},
   "outputs": [],
   "source": [
    "# Escolhendo jogos apenas do VCT Americas (campeonato mais recente)\n",
    "\n",
    "matches = soup.findAll('a', attrs = {'class': 'wf-card fc-flex m-item'})\n",
    "\n",
    "match_links = []\n",
    "\n",
    "for match in matches:\n",
    "    camp = match.find('div', attrs = {'class': 'text-of'}).text.strip().split(\":\")[0]\n",
    "    if camp == \"VCT 2023\":\n",
    "    \tmatch_links.append(base_url + match.get('href'))"
   ]
  },
  {
   "cell_type": "code",
   "execution_count": 15,
   "id": "ce669b99",
   "metadata": {},
   "outputs": [
    {
     "name": "stdout",
     "output_type": "stream",
     "text": [
      "Raspando informações do jogo: Leviatán vs Cloud9\n",
      "Raspando informações do mapa Haven com id: 123179\n",
      "Raspando informações do mapa Lotus com id: 123180\n",
      "Raspando informações do mapa Ascent com id: 123181\n",
      "Raspando informações do jogo: Leviatán vs FURIA\n",
      "Raspando informações do mapa Ascent com id: 123159\n",
      "Raspando informações do mapa Pearl com id: 123160\n",
      "Raspando informações do mapa Bind com id: 123161\n",
      "Raspando informações do jogo: Leviatán vs LOUD\n",
      "Raspando informações do mapa Haven com id: 119240\n",
      "Raspando informações do mapa Ascent com id: 119241\n",
      "Raspando informações do jogo: Leviatán vs Cloud9\n",
      "Raspando informações do mapa Lotus com id: 119040\n",
      "Raspando informações do mapa Haven com id: 119041\n",
      "Raspando informações do jogo: Leviatán vs KRÜ Esports\n",
      "Raspando informações do mapa Haven com id: 119022\n",
      "Raspando informações do mapa Split com id: 119023\n",
      "Raspando informações do jogo: Leviatán vs Evil Geniuses\n",
      "Raspando informações do mapa Split com id: 119007\n",
      "Raspando informações do mapa Pearl com id: 119008\n",
      "Raspando informações do mapa Ascent com id: 119009\n",
      "Raspando informações do jogo: Leviatán vs 100 Thieves\n",
      "Raspando informações do mapa Icebox com id: 118986\n",
      "Raspando informações do mapa Haven com id: 118987\n",
      "Raspando informações do mapa Lotus com id: 118988\n",
      "Raspando informações do jogo: Leviatán vs MIBR\n",
      "Raspando informações do mapa Pearl com id: 118971\n",
      "Raspando informações do mapa Icebox com id: 118972\n",
      "Raspando informações do jogo: Leviatán vs Sentinels\n",
      "Raspando informações do mapa Split com id: 118959\n",
      "Raspando informações do mapa Ascent com id: 118960\n",
      "Raspando informações do mapa Pearl com id: 118961\n",
      "Raspando informações do jogo: Leviatán vs FURIA\n",
      "Raspando informações do mapa Pearl com id: 118941\n",
      "Raspando informações do mapa Icebox com id: 118942\n",
      "Raspando informações do mapa Ascent com id: 118943\n",
      "Raspando informações do jogo: Leviatán vs NRG Esports\n",
      "Raspando informações do mapa Pearl com id: 118935\n",
      "Raspando informações do mapa Lotus com id: 118936\n"
     ]
    }
   ],
   "source": [
    "# Entrando em cada jogo e coletando as informações necessárias\n",
    "\n",
    "lev_games = {}\n",
    "for link in match_links: \n",
    "    r = requests.get(link)\n",
    "    soup = bs(r.text, 'html.parser')\n",
    "    \n",
    "    date = soup.find('div', {'class': 'moment-tz-convert'}).text.strip()\n",
    "    home_team = soup.find('div', {'class': 'match-header-link-name mod-1'}).find_all('div')[0].text.strip()\n",
    "    away_team = soup.find('div', {'class': 'match-header-link-name mod-2'}).find_all('div')[0].text.strip()\n",
    "    \n",
    "    is_lev_away = True\n",
    "    if home_team == \"Leviatán\":\n",
    "        opponent = away_team\n",
    "        is_lev_away = False\n",
    "    else:\n",
    "        opponent = home_team\n",
    "        \n",
    "    print(f\"Raspando informações do jogo: Leviatán vs {opponent}\")\n",
    "    \n",
    "    bans = soup.find_all('div', attrs = {'class': 'match-header-note'})\n",
    "    lev_bans = extract_bans(bans)\n",
    "    \n",
    "    if home_team == \"Leviatán\":\n",
    "        lev_score = soup.find('div', {'class': 'js-spoiler'}).find_all('span')[0].text.strip()\n",
    "        opponent_score = soup.find('div', {'class': 'js-spoiler'}).find_all('span')[2].text.strip()\n",
    "    else:\n",
    "        lev_score = soup.find('div', {'class': 'js-spoiler'}).find_all('span')[2].text.strip()\n",
    "        opponent_score = soup.find('div', {'class': 'js-spoiler'}).find_all('span')[0].text.strip()\n",
    "    \n",
    "    games = int(lev_score) + int(opponent_score) \n",
    "    first_map_id = int(soup.find('div', {'class': 'vm-stats-gamesnav-item js-map-switch'}).get('data-game-id'))\n",
    "    \n",
    "    maps = extract_maps(bans)\n",
    "    \n",
    "    maps_info = {}\n",
    "    \n",
    "    i = 0\n",
    "    for gid in range(first_map_id, first_map_id+games):\n",
    "        map_info = {}\n",
    "        print(f\"Raspando informações do mapa {maps[i]} com id: {gid}\")\n",
    "        \n",
    "        map_url = f\"{link}/?game={gid}&tab=overview\"\n",
    "        r = requests.get(map_url)\n",
    "        soup = bs(r.text, 'html.parser')\n",
    "        \n",
    "        map_name = soup.find('div', attrs = {'class': 'map'}).find_all('span')[0].text.strip()\n",
    "        \n",
    "        lev_rounds = soup.find('div', attrs = {'class': 'score mod-win'}).text.strip()\n",
    "        opponent_rounds = soup.find('div', attrs = {'class': 'score'}).text.strip()\n",
    "        \n",
    "        tables = soup.find_all('table', {'class': 'wf-table-inset mod-overview'})\n",
    "        \n",
    "        if is_lev_away:\n",
    "            team = tables[1].find('tbody')\n",
    "        else:\n",
    "            team = tables[0].find('tbody')\n",
    "        \n",
    "        for tr in team.find_all('tr'):\n",
    "            player = tr.find('td', attrs = {'class': 'mod-player'}).find('div', attrs = {'class': 'text-of'}).text.strip()\n",
    "            agent = tr.find('td', attrs = {'class': 'mod-agents'}).find('img').get('title')\n",
    "            map_info[player] = agent\n",
    "            \n",
    "        maps_info[maps[i]] = map_info\n",
    "        \n",
    "        i+=1\n",
    "        time.sleep(1)\n",
    "        \n",
    "    lev_games[f\"leviatan-{opponent.lower().replace('ü', 'u')}\"] = maps_info"
   ]
  },
  {
   "cell_type": "code",
   "execution_count": 16,
   "id": "dae43dc3",
   "metadata": {},
   "outputs": [],
   "source": [
    "# Salvando as informações da LEV em um arquivo JSON\n",
    "\n",
    "with open(\"leviatan.json\", \"w\") as f:\n",
    "    json.dump(lev_games, f, indent=2)"
   ]
  },
  {
   "cell_type": "markdown",
   "id": "7108fd7f",
   "metadata": {},
   "source": [
    "## NRG, constantes e perigosos\n",
    "\n",
    "A NRG é uma equipe de destaque no cenário competitivo de Valorant. Com uma formação talentosa e uma abordagem estratégica excepcional, a NRG se estabeleceu como uma das principais potências do jogo.\n",
    "\n",
    "A força da NRG reside na combinação de habilidades individuais de seus jogadores e na sinergia que eles demonstram como equipe. Cada jogador traz sua própria expertise e estilo de jogo único, o que contribui para uma dinâmica de equipe diversificada e eficiente.\n",
    "\n",
    "Ao longo das competições, a NRG tem mostrado uma consistência notável, alcançando resultados impressionantes. Seja através de estratégias bem planejadas, controle de mapa habilidoso ou jogadas individuais brilhantes, a equipe é capaz de superar os obstáculos que surgem em seu caminho."
   ]
  },
  {
   "cell_type": "code",
   "execution_count": 17,
   "id": "b86d0d7d",
   "metadata": {},
   "outputs": [],
   "source": [
    "# Scrapping dos dados da NRG\n",
    "\n",
    "nrgurl = \"https://www.vlr.gg/team/matches/1034/nrg-esports/\"\n",
    "\n",
    "res = requests.get(nrgurl)\n",
    "\n",
    "soup = bs(res.text, 'html.parser')"
   ]
  },
  {
   "cell_type": "code",
   "execution_count": 18,
   "id": "c8266a24",
   "metadata": {},
   "outputs": [],
   "source": [
    "# Escolhendo jogos apenas do VCT Americas (campeonato mais recente)\n",
    "\n",
    "matches = soup.findAll('a', attrs = {'class': 'wf-card fc-flex m-item'})\n",
    "\n",
    "match_links = []\n",
    "\n",
    "for match in matches:\n",
    "    camp = match.find('div', attrs = {'class': 'text-of'}).text.strip().split(\":\")[0]\n",
    "    if camp == \"VCT 2023\":\n",
    "    \tmatch_links.append(base_url + match.get('href'))"
   ]
  },
  {
   "cell_type": "code",
   "execution_count": 19,
   "id": "239e48da",
   "metadata": {},
   "outputs": [
    {
     "name": "stdout",
     "output_type": "stream",
     "text": [
      "Raspando informações do jogo: NRG vs Evil Geniuses\n",
      "Raspando informações do mapa Haven com id: 123188\n",
      "Raspando informações do mapa Ascent com id: 123189\n",
      "Raspando informações do mapa Lotus com id: 123190\n",
      "Raspando informações do mapa Split com id: 123191\n",
      "Raspando informações do jogo: NRG vs Cloud9\n",
      "Raspando informações do mapa Pearl com id: 123185\n",
      "Raspando informações do mapa Lotus com id: 123186\n",
      "Raspando informações do mapa Haven com id: 123187\n",
      "Raspando informações do jogo: NRG vs FURIA\n",
      "Raspando informações do mapa Bind com id: 123182\n",
      "Raspando informações do mapa Haven com id: 123183\n",
      "Raspando informações do jogo: NRG vs Evil Geniuses\n",
      "Raspando informações do mapa Haven com id: 123162\n",
      "Raspando informações do mapa Split com id: 123163\n",
      "Raspando informações do mapa Ascent com id: 123164\n",
      "Raspando informações do jogo: NRG vs Evil Geniuses\n",
      "Raspando informações do mapa Bind com id: 119234\n",
      "Raspando informações do mapa Split com id: 119235\n",
      "Raspando informações do jogo: NRG vs LOUD\n",
      "Raspando informações do mapa Split com id: 119037\n",
      "Raspando informações do mapa Pearl com id: 119038\n",
      "Raspando informações do jogo: NRG vs FURIA\n",
      "Raspando informações do mapa Bind com id: 119025\n",
      "Raspando informações do mapa Haven com id: 119026\n",
      "Raspando informações do mapa Pearl com id: 119027\n",
      "Raspando informações do jogo: NRG vs 100 Thieves\n",
      "Raspando informações do mapa Bind com id: 118998\n",
      "Raspando informações do mapa Fracture com id: 118999\n",
      "Raspando informações do jogo: NRG vs KRÜ Esports\n",
      "Raspando informações do mapa Haven com id: 118995\n",
      "Raspando informações do mapa Ascent com id: 118996\n",
      "Raspando informações do jogo: NRG vs Cloud9\n",
      "Raspando informações do mapa Haven com id: 118980\n",
      "Raspando informações do mapa Pearl com id: 118981\n",
      "Raspando informações do mapa Ascent com id: 118982\n",
      "Raspando informações do jogo: NRG vs MIBR\n",
      "Raspando informações do mapa Icebox com id: 118956\n",
      "Raspando informações do mapa Pearl com id: 118957\n",
      "Raspando informações do mapa Split com id: 118958\n",
      "Raspando informações do jogo: NRG vs Sentinels\n",
      "Raspando informações do mapa Lotus com id: 118944\n",
      "Raspando informações do mapa Icebox com id: 118945\n",
      "Raspando informações do jogo: NRG vs Leviatán\n",
      "Raspando informações do mapa Pearl com id: 118935\n",
      "Raspando informações do mapa Lotus com id: 118936\n"
     ]
    }
   ],
   "source": [
    "# Entrando em cada jogo e coletando informações necessárias\n",
    "\n",
    "nrg_games = {}\n",
    "for link in match_links: \n",
    "    r = requests.get(link)\n",
    "    soup = bs(r.text, 'html.parser')\n",
    "    \n",
    "    date = soup.find('div', {'class': 'moment-tz-convert'}).text.strip()\n",
    "    home_team = soup.find('div', {'class': 'match-header-link-name mod-1'}).find_all('div')[0].text.strip()\n",
    "    away_team = soup.find('div', {'class': 'match-header-link-name mod-2'}).find_all('div')[0].text.strip()\n",
    "    \n",
    "    is_nrg_away = True\n",
    "    if home_team == \"NRG Esports\":\n",
    "        opponent = away_team\n",
    "        is_nrg_away = False\n",
    "    else:\n",
    "        opponent = home_team\n",
    "        \n",
    "    print(f\"Raspando informações do jogo: NRG vs {opponent}\")\n",
    "    \n",
    "    bans = soup.find_all('div', attrs = {'class': 'match-header-note'})\n",
    "    nrg_bans = extract_bans(bans)\n",
    "    \n",
    "    if home_team == \"NRG Esports\":\n",
    "        nrg_score = soup.find('div', {'class': 'js-spoiler'}).find_all('span')[0].text.strip()\n",
    "        opponent_score = soup.find('div', {'class': 'js-spoiler'}).find_all('span')[2].text.strip()\n",
    "    else:\n",
    "        nrg_score = soup.find('div', {'class': 'js-spoiler'}).find_all('span')[2].text.strip()\n",
    "        opponent_score = soup.find('div', {'class': 'js-spoiler'}).find_all('span')[0].text.strip()\n",
    "    \n",
    "    games = int(nrg_score) + int(opponent_score) \n",
    "    first_map_id = int(soup.find('div', {'class': 'vm-stats-gamesnav-item js-map-switch'}).get('data-game-id'))\n",
    "    \n",
    "    maps = extract_maps(bans)\n",
    "    \n",
    "    maps_info = {}\n",
    "    \n",
    "    i = 0\n",
    "    for gid in range(first_map_id, first_map_id+games):\n",
    "        map_info = {}\n",
    "        print(f\"Raspando informações do mapa {maps[i]} com id: {gid}\")\n",
    "        \n",
    "        map_url = f\"{link}/?game={gid}&tab=overview\"\n",
    "        r = requests.get(map_url)\n",
    "        soup = bs(r.text, 'html.parser')\n",
    "        \n",
    "        map_name = soup.find('div', attrs = {'class': 'map'}).find_all('span')[0].text.strip()\n",
    "        \n",
    "        nrg_rounds = soup.find('div', attrs = {'class': 'score mod-win'}).text.strip()\n",
    "        opponent_rounds = soup.find('div', attrs = {'class': 'score'}).text.strip()\n",
    "        \n",
    "        tables = soup.find_all('table', {'class': 'wf-table-inset mod-overview'})\n",
    "        \n",
    "        if is_nrg_away:\n",
    "            team = tables[1].find('tbody')\n",
    "        else:\n",
    "            team = tables[0].find('tbody')\n",
    "        \n",
    "        for tr in team.find_all('tr'):\n",
    "            player = tr.find('td', attrs = {'class': 'mod-player'}).find('div', attrs = {'class': 'text-of'}).text.strip()\n",
    "            agent = tr.find('td', attrs = {'class': 'mod-agents'}).find('img').get('title')\n",
    "            map_info[player] = agent\n",
    "            \n",
    "        maps_info[maps[i]] = map_info\n",
    "        \n",
    "        i+=1\n",
    "        time.sleep(1)\n",
    "        \n",
    "    nrg_games[f\"leviatan-{opponent.lower().replace('ü', 'u').replace('á', 'a')}\"] = maps_info"
   ]
  },
  {
   "cell_type": "code",
   "execution_count": 21,
   "id": "57418a4e",
   "metadata": {},
   "outputs": [],
   "source": [
    "# Salvando as informações da NRG em um arquivo JSON\n",
    "\n",
    "with open(\"nrg-esports.json\", \"w\") as f:\n",
    "    json.dump(nrg_games, f, indent=2)"
   ]
  },
  {
   "cell_type": "markdown",
   "id": "16fa873e",
   "metadata": {},
   "source": [
    "# Pickrate de Mapas e Agentes\n",
    "\n",
    "O pickrate de mapas e agentes no Valorant refere-se à frequência com que cada mapa e agente é escolhido durante as partidas. Essa métrica é importante porque fornece insights sobre as preferências e popularidade de escolha dos jogadores.\n",
    "\n",
    "Ao analisar o pickrate de mapas, é possível identificar quais são os mapas mais populares entre os times, quais são menos escolhidos e entender a dinâmica de jogo em cada um deles. Isso auxilia na preparação estratégica das equipes, permitindo que elas se concentrem em aprimorar suas táticas nos mapas mais jogados e compreendam as particularidades de cada ambiente de jogo.\n",
    "\n",
    "Já o pickrate de agentes revela quais personagens são mais frequentemente selecionados pelos jogadores. Isso oferece informações valiosas sobre as preferências de cada um e a eficácia de cada agente em diferentes situações. Com base nesses dados, os jogadores e equipes podem ajustar suas estratégias, criar composições de equipe mais equilibradas e adaptar-se ao meta atual do jogo."
   ]
  },
  {
   "cell_type": "markdown",
   "id": "1e011102",
   "metadata": {},
   "source": [
    "## Cloud9 - leaf, runi, xeppaa, jakee e zellsis"
   ]
  },
  {
   "cell_type": "code",
   "execution_count": 31,
   "id": "d060ce15",
   "metadata": {},
   "outputs": [
    {
     "data": {
      "text/markdown": [
       "**Pickrate de mapas:**"
      ],
      "text/plain": [
       "<IPython.core.display.Markdown object>"
      ]
     },
     "metadata": {},
     "output_type": "display_data"
    },
    {
     "name": "stdout",
     "output_type": "stream",
     "text": [
      "Haven -> 9.52%\n",
      "Pearl -> 14.29%\n",
      "Ascent -> 23.81%\n",
      "Lotus -> 23.81%\n",
      "Fracture -> 14.29%\n",
      "Split -> 14.29%\n"
     ]
    },
    {
     "data": {
      "text/markdown": [
       "**Pickrate de cada player:**"
      ],
      "text/plain": [
       "<IPython.core.display.Markdown object>"
      ]
     },
     "metadata": {},
     "output_type": "display_data"
    },
    {
     "data": {
      "text/markdown": [
       "**Player: leaf**"
      ],
      "text/plain": [
       "<IPython.core.display.Markdown object>"
      ]
     },
     "metadata": {},
     "output_type": "display_data"
    },
    {
     "name": "stdout",
     "output_type": "stream",
     "text": [
      "Map: Haven\n",
      "Agent: Neon - Pick Rate: 50.00%\n",
      "Agent: Jett - Pick Rate: 50.00%\n",
      "\n",
      "Map: Pearl\n",
      "Agent: Killjoy - Pick Rate: 50.00%\n",
      "Agent: Skye - Pick Rate: 50.00%\n",
      "\n",
      "Map: Ascent\n",
      "Agent: Neon - Pick Rate: 50.00%\n",
      "Agent: Jett - Pick Rate: 25.00%\n",
      "Agent: Skye - Pick Rate: 25.00%\n",
      "\n",
      "Map: Lotus\n",
      "Agent: Neon - Pick Rate: 75.00%\n",
      "Agent: Skye - Pick Rate: 25.00%\n",
      "\n",
      "Map: Fracture\n",
      "Agent: Neon - Pick Rate: 50.00%\n",
      "Agent: Jett - Pick Rate: 50.00%\n",
      "\n",
      "Map: Split\n",
      "Agent: Skye - Pick Rate: 100.00%\n",
      "\n",
      "\n"
     ]
    },
    {
     "data": {
      "text/markdown": [
       "**Player: runi**"
      ],
      "text/plain": [
       "<IPython.core.display.Markdown object>"
      ]
     },
     "metadata": {},
     "output_type": "display_data"
    },
    {
     "name": "stdout",
     "output_type": "stream",
     "text": [
      "Map: Haven\n",
      "Agent: Sova - Pick Rate: 50.00%\n",
      "Agent: Viper - Pick Rate: 50.00%\n",
      "\n",
      "Map: Pearl\n",
      "Agent: Breach - Pick Rate: 50.00%\n",
      "Agent: Sage - Pick Rate: 50.00%\n",
      "\n",
      "Map: Ascent\n",
      "Agent: Breach - Pick Rate: 25.00%\n",
      "Agent: Viper - Pick Rate: 75.00%\n",
      "\n",
      "Map: Lotus\n",
      "Agent: Breach - Pick Rate: 25.00%\n",
      "Agent: Viper - Pick Rate: 75.00%\n",
      "\n",
      "Map: Fracture\n",
      "Agent: Viper - Pick Rate: 100.00%\n",
      "\n",
      "Map: Split\n",
      "Agent: Breach - Pick Rate: 100.00%\n",
      "\n",
      "\n"
     ]
    },
    {
     "data": {
      "text/markdown": [
       "**Player: Xeppaa**"
      ],
      "text/plain": [
       "<IPython.core.display.Markdown object>"
      ]
     },
     "metadata": {},
     "output_type": "display_data"
    },
    {
     "name": "stdout",
     "output_type": "stream",
     "text": [
      "Map: Haven\n",
      "Agent: Breach - Pick Rate: 50.00%\n",
      "Agent: Skye - Pick Rate: 50.00%\n",
      "\n",
      "Map: Pearl\n",
      "Agent: Skye - Pick Rate: 50.00%\n",
      "Agent: Raze - Pick Rate: 50.00%\n",
      "\n",
      "Map: Ascent\n",
      "Agent: Skye - Pick Rate: 75.00%\n",
      "Agent: Raze - Pick Rate: 25.00%\n",
      "\n",
      "Map: Lotus\n",
      "Agent: Skye - Pick Rate: 75.00%\n",
      "Agent: Raze - Pick Rate: 25.00%\n",
      "\n",
      "Map: Fracture\n",
      "Agent: Skye - Pick Rate: 100.00%\n",
      "\n",
      "Map: Split\n",
      "Agent: Raze - Pick Rate: 100.00%\n",
      "\n",
      "\n"
     ]
    },
    {
     "data": {
      "text/markdown": [
       "**Player: Zellsis**"
      ],
      "text/plain": [
       "<IPython.core.display.Markdown object>"
      ]
     },
     "metadata": {},
     "output_type": "display_data"
    },
    {
     "name": "stdout",
     "output_type": "stream",
     "text": [
      "Map: Haven\n",
      "Agent: Killjoy - Pick Rate: 100.00%\n",
      "\n",
      "Map: Pearl\n",
      "Agent: Killjoy - Pick Rate: 50.00%\n",
      "Agent: Phoenix - Pick Rate: 50.00%\n",
      "\n",
      "Map: Ascent\n",
      "Agent: Killjoy - Pick Rate: 100.00%\n",
      "\n",
      "Map: Lotus\n",
      "Agent: Killjoy - Pick Rate: 100.00%\n",
      "\n",
      "Map: Fracture\n",
      "Agent: Killjoy - Pick Rate: 100.00%\n",
      "\n",
      "Map: Split\n",
      "Agent: Killjoy - Pick Rate: 100.00%\n",
      "\n",
      "\n"
     ]
    },
    {
     "data": {
      "text/markdown": [
       "**Player: jakee**"
      ],
      "text/plain": [
       "<IPython.core.display.Markdown object>"
      ]
     },
     "metadata": {},
     "output_type": "display_data"
    },
    {
     "name": "stdout",
     "output_type": "stream",
     "text": [
      "Map: Haven\n",
      "Agent: Omen - Pick Rate: 100.00%\n",
      "\n",
      "Map: Pearl\n",
      "Agent: Astra - Pick Rate: 100.00%\n",
      "\n",
      "Map: Ascent\n",
      "Agent: Omen - Pick Rate: 75.00%\n",
      "Agent: Astra - Pick Rate: 25.00%\n",
      "\n",
      "Map: Lotus\n",
      "Agent: Omen - Pick Rate: 75.00%\n",
      "Agent: Astra - Pick Rate: 25.00%\n",
      "\n",
      "Map: Fracture\n",
      "Agent: Omen - Pick Rate: 100.00%\n",
      "\n",
      "Map: Split\n",
      "Agent: Astra - Pick Rate: 100.00%\n",
      "\n",
      "\n"
     ]
    }
   ],
   "source": [
    "# Análise do arquivo JSON da Cloud9\n",
    "\n",
    "with open(\"cloud9.json\", \"r\") as f:\n",
    "    games = json.load(f)\n",
    "    \n",
    "map_picks = {}\n",
    "total_picks = 0\n",
    "\n",
    "for team, maps in games.items():\n",
    "    for _ in maps.values():\n",
    "        total_picks += 1\n",
    "\n",
    "for game in games.keys():\n",
    "    for mapa in games[game].keys():\n",
    "        if map_picks.get(mapa) != None:\n",
    "            map_picks[mapa] += 1\n",
    "        else:\n",
    "            map_picks[mapa] = 1\n",
    "           \n",
    "display(Markdown(\"**Pickrate de mapas:**\"))\n",
    "for mapa, num in map_picks.items():\n",
    "    pctg = round((num/total_picks)*100, 2)\n",
    "    print(f\"{mapa} -> {pctg}%\")\n",
    "\n",
    "players = {}\n",
    "for game in games:\n",
    "    for mapa in games[game].keys():\n",
    "        for player, agent in games[game][mapa].items():\n",
    "            if players.get(player) != None:\n",
    "                if (players[player].get(mapa) != None):\n",
    "                    players[player][mapa].append(agent)\n",
    "                else:\n",
    "                    players[player][mapa] = []\n",
    "            else:\n",
    "                players[player] = {}\n",
    "                players[player][mapa] = [agent]\n",
    "                \n",
    "# Stats de cada jogador com cada agente\n",
    "\n",
    "display(Markdown(\"**Pickrate de cada player:**\"))\n",
    "for player in players.keys():\n",
    "    display(Markdown(f\"**Player: {player}**\"))\n",
    "    for mapa in players[player].keys():\n",
    "        print(\"Map:\", mapa)\n",
    "        for agent in set(players[player][mapa]):\n",
    "            agent_pctg = players[player][mapa].count(agent)/len(players[player][mapa])\n",
    "            print(\"Agent: {} - Pick Rate: {:.2f}%\".format(agent, agent_pctg*100))\n",
    "        print(\"\")\n",
    "    print(\"\")"
   ]
  },
  {
   "cell_type": "code",
   "execution_count": 33,
   "id": "a50a9008",
   "metadata": {},
   "outputs": [
    {
     "data": {
      "text/markdown": [
       "**Pickrate de mapas:**"
      ],
      "text/plain": [
       "<IPython.core.display.Markdown object>"
      ]
     },
     "metadata": {},
     "output_type": "display_data"
    },
    {
     "name": "stdout",
     "output_type": "stream",
     "text": [
      "Lotus -> 13.64%\n",
      "Haven -> 18.18%\n",
      "Pearl -> 22.73%\n",
      "Icebox -> 13.64%\n",
      "Ascent -> 18.18%\n",
      "Split -> 13.64%\n"
     ]
    },
    {
     "data": {
      "text/markdown": [
       "**Pickrate de cada player:**"
      ],
      "text/plain": [
       "<IPython.core.display.Markdown object>"
      ]
     },
     "metadata": {},
     "output_type": "display_data"
    },
    {
     "data": {
      "text/markdown": [
       "**Player: Shyy**"
      ],
      "text/plain": [
       "<IPython.core.display.Markdown object>"
      ]
     },
     "metadata": {},
     "output_type": "display_data"
    },
    {
     "name": "stdout",
     "output_type": "stream",
     "text": [
      "Map: Lotus\n",
      "Agent: Killjoy - Pick Rate: 100.00%\n",
      "\n",
      "Map: Haven\n",
      "Agent: Killjoy - Pick Rate: 100.00%\n",
      "\n",
      "Map: Pearl\n",
      "Agent: Killjoy - Pick Rate: 50.00%\n",
      "Agent: Skye - Pick Rate: 50.00%\n",
      "\n",
      "Map: Icebox\n",
      "Agent: Killjoy - Pick Rate: 100.00%\n",
      "\n",
      "Map: Ascent\n",
      "Agent: Killjoy - Pick Rate: 33.33%\n",
      "Agent: Skye - Pick Rate: 66.67%\n",
      "\n",
      "Map: Split\n",
      "Agent: Skye - Pick Rate: 100.00%\n",
      "\n",
      "\n"
     ]
    },
    {
     "data": {
      "text/markdown": [
       "**Player: kiNgg**"
      ],
      "text/plain": [
       "<IPython.core.display.Markdown object>"
      ]
     },
     "metadata": {},
     "output_type": "display_data"
    },
    {
     "name": "stdout",
     "output_type": "stream",
     "text": [
      "Map: Lotus\n",
      "Agent: Viper - Pick Rate: 100.00%\n",
      "\n",
      "Map: Haven\n",
      "Agent: Breach - Pick Rate: 66.67%\n",
      "Agent: Viper - Pick Rate: 33.33%\n",
      "\n",
      "Map: Pearl\n",
      "Agent: Viper - Pick Rate: 100.00%\n",
      "\n",
      "Map: Icebox\n",
      "Agent: Viper - Pick Rate: 100.00%\n",
      "\n",
      "Map: Ascent\n",
      "Agent: Breach - Pick Rate: 33.33%\n",
      "Agent: Viper - Pick Rate: 66.67%\n",
      "\n",
      "Map: Split\n",
      "Agent: Viper - Pick Rate: 100.00%\n",
      "\n",
      "\n"
     ]
    },
    {
     "data": {
      "text/markdown": [
       "**Player: nzr**"
      ],
      "text/plain": [
       "<IPython.core.display.Markdown object>"
      ]
     },
     "metadata": {},
     "output_type": "display_data"
    },
    {
     "name": "stdout",
     "output_type": "stream",
     "text": [
      "Map: Lotus\n",
      "Agent: Sova - Pick Rate: 33.33%\n",
      "Agent: Skye - Pick Rate: 66.67%\n",
      "\n",
      "Map: Haven\n",
      "Agent: Sova - Pick Rate: 100.00%\n",
      "\n",
      "Map: Pearl\n",
      "Agent: Skye - Pick Rate: 50.00%\n",
      "Agent: Raze - Pick Rate: 50.00%\n",
      "\n",
      "Map: Icebox\n",
      "Agent: Sova - Pick Rate: 50.00%\n",
      "Agent: Skye - Pick Rate: 50.00%\n",
      "\n",
      "Map: Ascent\n",
      "Agent: Sova - Pick Rate: 33.33%\n",
      "Agent: Raze - Pick Rate: 66.67%\n",
      "\n",
      "Map: Split\n",
      "Agent: Raze - Pick Rate: 100.00%\n",
      "\n",
      "\n"
     ]
    },
    {
     "data": {
      "text/markdown": [
       "**Player: Mazino**"
      ],
      "text/plain": [
       "<IPython.core.display.Markdown object>"
      ]
     },
     "metadata": {},
     "output_type": "display_data"
    },
    {
     "name": "stdout",
     "output_type": "stream",
     "text": [
      "Map: Lotus\n",
      "Agent: Omen - Pick Rate: 33.33%\n",
      "Agent: Harbor - Pick Rate: 66.67%\n",
      "\n",
      "Map: Haven\n",
      "Agent: Omen - Pick Rate: 66.67%\n",
      "Agent: Harbor - Pick Rate: 33.33%\n",
      "\n",
      "Map: Pearl\n",
      "Agent: Astra - Pick Rate: 50.00%\n",
      "Agent: Harbor - Pick Rate: 50.00%\n",
      "\n",
      "Map: Icebox\n",
      "Agent: Harbor - Pick Rate: 100.00%\n",
      "\n",
      "Map: Ascent\n",
      "Agent: Omen - Pick Rate: 33.33%\n",
      "Agent: Astra - Pick Rate: 66.67%\n",
      "\n",
      "Map: Split\n",
      "Agent: Astra - Pick Rate: 100.00%\n",
      "\n",
      "\n"
     ]
    },
    {
     "data": {
      "text/markdown": [
       "**Player: Tacolilla**"
      ],
      "text/plain": [
       "<IPython.core.display.Markdown object>"
      ]
     },
     "metadata": {},
     "output_type": "display_data"
    },
    {
     "name": "stdout",
     "output_type": "stream",
     "text": [
      "Map: Lotus\n",
      "Agent: Jett - Pick Rate: 66.67%\n",
      "Agent: Raze - Pick Rate: 33.33%\n",
      "\n",
      "Map: Haven\n",
      "Agent: Jett - Pick Rate: 100.00%\n",
      "\n",
      "Map: Pearl\n",
      "Agent: Jett - Pick Rate: 100.00%\n",
      "\n",
      "Map: Icebox\n",
      "Agent: Jett - Pick Rate: 100.00%\n",
      "\n",
      "Map: Ascent\n",
      "Agent: Jett - Pick Rate: 100.00%\n",
      "\n",
      "Map: Split\n",
      "Agent: Jett - Pick Rate: 100.00%\n",
      "\n",
      "\n"
     ]
    }
   ],
   "source": [
    "# Análise do arquivo JSON da Leviatan\n",
    "\n",
    "with open(\"leviatan.json\", \"r\") as f:\n",
    "    games = json.load(f)\n",
    "\n",
    "map_picks = {}\n",
    "total_picks = 0\n",
    "\n",
    "for team, maps in games.items():\n",
    "    for _ in maps.values():\n",
    "        total_picks += 1\n",
    "\n",
    "for game in games.keys():\n",
    "    for mapa in games[game].keys():\n",
    "        if map_picks.get(mapa) != None:\n",
    "            map_picks[mapa] += 1\n",
    "        else:\n",
    "            map_picks[mapa] = 1\n",
    "           \n",
    "display(Markdown(\"**Pickrate de mapas:**\"))\n",
    "for mapa, num in map_picks.items():\n",
    "    pctg = round((num/total_picks)*100, 2)\n",
    "    print(f\"{mapa} -> {pctg}%\")\n",
    "    \n",
    "\n",
    "players = {}\n",
    "for game in games:\n",
    "    for mapa in games[game].keys():\n",
    "        for player, agent in games[game][mapa].items():\n",
    "            if players.get(player) != None:\n",
    "                if (players[player].get(mapa) != None):\n",
    "                    players[player][mapa].append(agent)\n",
    "                else:\n",
    "                    players[player][mapa] = []\n",
    "            else:\n",
    "                players[player] = {}\n",
    "                players[player][mapa] = [agent]\n",
    "                \n",
    "# Stats de cada jogador com cada agente\n",
    "\n",
    "display(Markdown(\"**Pickrate de cada player:**\"))\n",
    "for player in players.keys():\n",
    "    display(Markdown(f\"**Player: {player}**\"))\n",
    "    for mapa in players[player].keys():\n",
    "        print(\"Map:\", mapa)\n",
    "        for agent in set(players[player][mapa]):\n",
    "            agent_pctg = players[player][mapa].count(agent)/len(players[player][mapa])\n",
    "            print(\"Agent: {} - Pick Rate: {:.2f}%\".format(agent, agent_pctg*100))\n",
    "        print(\"\")\n",
    "    print(\"\")"
   ]
  },
  {
   "cell_type": "code",
   "execution_count": 34,
   "id": "77ad537e",
   "metadata": {},
   "outputs": [
    {
     "data": {
      "text/markdown": [
       "**Pickrate de mapas:**"
      ],
      "text/plain": [
       "<IPython.core.display.Markdown object>"
      ]
     },
     "metadata": {},
     "output_type": "display_data"
    },
    {
     "name": "stdout",
     "output_type": "stream",
     "text": [
      "Bind -> 14.29%\n",
      "Split -> 14.29%\n",
      "Haven -> 14.29%\n",
      "Pearl -> 23.81%\n",
      "Ascent -> 9.52%\n",
      "Fracture -> 4.76%\n",
      "Icebox -> 9.52%\n",
      "Lotus -> 9.52%\n"
     ]
    },
    {
     "data": {
      "text/markdown": [
       "**Pickrate de cada player:**"
      ],
      "text/plain": [
       "<IPython.core.display.Markdown object>"
      ]
     },
     "metadata": {},
     "output_type": "display_data"
    },
    {
     "data": {
      "text/markdown": [
       "**Player: crashies**"
      ],
      "text/plain": [
       "<IPython.core.display.Markdown object>"
      ]
     },
     "metadata": {},
     "output_type": "display_data"
    },
    {
     "name": "stdout",
     "output_type": "stream",
     "text": [
      "Map: Bind\n",
      "Agent: Skye - Pick Rate: 100.00%\n",
      "\n",
      "Map: Split\n",
      "Agent: Sova - Pick Rate: 50.00%\n",
      "Agent: Skye - Pick Rate: 50.00%\n",
      "\n",
      "Map: Haven\n",
      "Agent: Sova - Pick Rate: 50.00%\n",
      "Agent: Skye - Pick Rate: 50.00%\n",
      "\n",
      "Map: Pearl\n",
      "Agent: Killjoy - Pick Rate: 25.00%\n",
      "Agent: Sova - Pick Rate: 25.00%\n",
      "Agent: Skye - Pick Rate: 50.00%\n",
      "\n",
      "Map: Ascent\n",
      "Agent: Sova - Pick Rate: 100.00%\n",
      "\n",
      "Map: Fracture\n",
      "\n",
      "Map: Icebox\n",
      "Agent: Viper - Pick Rate: 100.00%\n",
      "\n",
      "Map: Lotus\n",
      "Agent: Killjoy - Pick Rate: 100.00%\n",
      "\n",
      "\n"
     ]
    },
    {
     "data": {
      "text/markdown": [
       "**Player: s0m**"
      ],
      "text/plain": [
       "<IPython.core.display.Markdown object>"
      ]
     },
     "metadata": {},
     "output_type": "display_data"
    },
    {
     "name": "stdout",
     "output_type": "stream",
     "text": [
      "Map: Bind\n",
      "Agent: Harbor - Pick Rate: 100.00%\n",
      "\n",
      "Map: Split\n",
      "Agent: Astra - Pick Rate: 50.00%\n",
      "Agent: Viper - Pick Rate: 50.00%\n",
      "\n",
      "Map: Haven\n",
      "Agent: Harbor - Pick Rate: 50.00%\n",
      "Agent: Astra - Pick Rate: 50.00%\n",
      "\n",
      "Map: Pearl\n",
      "Agent: Harbor - Pick Rate: 50.00%\n",
      "Agent: Astra - Pick Rate: 25.00%\n",
      "Agent: Viper - Pick Rate: 25.00%\n",
      "\n",
      "Map: Ascent\n",
      "Agent: Astra - Pick Rate: 100.00%\n",
      "\n",
      "Map: Fracture\n",
      "\n",
      "Map: Icebox\n",
      "Agent: Omen - Pick Rate: 100.00%\n",
      "\n",
      "Map: Lotus\n",
      "Agent: Harbor - Pick Rate: 100.00%\n",
      "\n",
      "\n"
     ]
    },
    {
     "data": {
      "text/markdown": [
       "**Player: ardiis**"
      ],
      "text/plain": [
       "<IPython.core.display.Markdown object>"
      ]
     },
     "metadata": {},
     "output_type": "display_data"
    },
    {
     "name": "stdout",
     "output_type": "stream",
     "text": [
      "Map: Bind\n",
      "Agent: Sage - Pick Rate: 100.00%\n",
      "\n",
      "Map: Split\n",
      "Agent: Jett - Pick Rate: 50.00%\n",
      "Agent: Sage - Pick Rate: 50.00%\n",
      "\n",
      "Map: Haven\n",
      "Agent: Jett - Pick Rate: 50.00%\n",
      "Agent: Sage - Pick Rate: 50.00%\n",
      "\n",
      "Map: Pearl\n",
      "Agent: Raze - Pick Rate: 25.00%\n",
      "Agent: Jett - Pick Rate: 25.00%\n",
      "Agent: Sage - Pick Rate: 50.00%\n",
      "\n",
      "Map: Ascent\n",
      "Agent: Jett - Pick Rate: 100.00%\n",
      "\n",
      "Map: Fracture\n",
      "\n",
      "Map: Icebox\n",
      "Agent: Killjoy - Pick Rate: 100.00%\n",
      "\n",
      "Map: Lotus\n",
      "Agent: Raze - Pick Rate: 100.00%\n",
      "\n",
      "\n"
     ]
    },
    {
     "data": {
      "text/markdown": [
       "**Player: FiNESSE**"
      ],
      "text/plain": [
       "<IPython.core.display.Markdown object>"
      ]
     },
     "metadata": {},
     "output_type": "display_data"
    },
    {
     "name": "stdout",
     "output_type": "stream",
     "text": [
      "Map: Bind\n",
      "Agent: Viper - Pick Rate: 100.00%\n",
      "\n",
      "Map: Split\n",
      "Agent: Killjoy - Pick Rate: 50.00%\n",
      "Agent: Viper - Pick Rate: 50.00%\n",
      "\n",
      "Map: Haven\n",
      "Agent: Breach - Pick Rate: 50.00%\n",
      "Agent: Viper - Pick Rate: 50.00%\n",
      "\n",
      "Map: Pearl\n",
      "Agent: Killjoy - Pick Rate: 25.00%\n",
      "Agent: Skye - Pick Rate: 25.00%\n",
      "Agent: Viper - Pick Rate: 50.00%\n",
      "\n",
      "Map: Ascent\n",
      "Agent: Breach - Pick Rate: 100.00%\n",
      "\n",
      "Map: Fracture\n",
      "\n",
      "Map: Icebox\n",
      "Agent: Skye - Pick Rate: 100.00%\n",
      "\n",
      "Map: Lotus\n",
      "Agent: Skye - Pick Rate: 100.00%\n",
      "\n",
      "\n"
     ]
    },
    {
     "data": {
      "text/markdown": [
       "**Player: Victor**"
      ],
      "text/plain": [
       "<IPython.core.display.Markdown object>"
      ]
     },
     "metadata": {},
     "output_type": "display_data"
    },
    {
     "name": "stdout",
     "output_type": "stream",
     "text": [
      "Map: Bind\n",
      "Agent: Raze - Pick Rate: 100.00%\n",
      "\n",
      "Map: Split\n",
      "Agent: Kayo - Pick Rate: 50.00%\n",
      "Agent: Raze - Pick Rate: 50.00%\n",
      "\n",
      "Map: Haven\n",
      "Agent: Killjoy - Pick Rate: 50.00%\n",
      "Agent: Raze - Pick Rate: 50.00%\n",
      "\n",
      "Map: Pearl\n",
      "Agent: Kayo - Pick Rate: 25.00%\n",
      "Agent: Viper - Pick Rate: 25.00%\n",
      "Agent: Raze - Pick Rate: 50.00%\n",
      "\n",
      "Map: Ascent\n",
      "Agent: Killjoy - Pick Rate: 100.00%\n",
      "\n",
      "Map: Fracture\n",
      "\n",
      "Map: Icebox\n",
      "Agent: Jett - Pick Rate: 100.00%\n",
      "\n",
      "Map: Lotus\n",
      "Agent: Viper - Pick Rate: 100.00%\n",
      "\n",
      "\n"
     ]
    }
   ],
   "source": [
    "# Análise do arquivo JSON da NRG Esports\n",
    "\n",
    "with open(\"nrg-esports.json\", \"r\") as f:\n",
    "    games = json.load(f)\n",
    "\n",
    "map_picks = {}\n",
    "total_picks = 0\n",
    "\n",
    "for team, maps in games.items():\n",
    "    for _ in maps.values():\n",
    "        total_picks += 1\n",
    "\n",
    "for game in games.keys():\n",
    "    for mapa in games[game].keys():\n",
    "        if map_picks.get(mapa) != None:\n",
    "            map_picks[mapa] += 1\n",
    "        else:\n",
    "            map_picks[mapa] = 1\n",
    "           \n",
    "display(Markdown(\"**Pickrate de mapas:**\"))\n",
    "for mapa, num in map_picks.items():\n",
    "    pctg = round((num/total_picks)*100, 2)\n",
    "    print(f\"{mapa} -> {pctg}%\")\n",
    "    \n",
    "players = {}\n",
    "for game in games:\n",
    "    for mapa in games[game].keys():\n",
    "        for player, agent in games[game][mapa].items():\n",
    "            if players.get(player) != None:\n",
    "                if (players[player].get(mapa) != None):\n",
    "                    players[player][mapa].append(agent)\n",
    "                else:\n",
    "                    players[player][mapa] = []\n",
    "            else:\n",
    "                players[player] = {}\n",
    "                players[player][mapa] = [agent]\n",
    "                \n",
    "# Stats de cada jogador com cada agente\n",
    "\n",
    "display(Markdown(\"**Pickrate de cada player:**\"))\n",
    "for player in players.keys():\n",
    "    display(Markdown(f\"**Player: {player}**\"))\n",
    "    for mapa in players[player].keys():\n",
    "        print(\"Map:\", mapa)\n",
    "        for agent in set(players[player][mapa]):\n",
    "            agent_pctg = players[player][mapa].count(agent)/len(players[player][mapa])\n",
    "            print(\"Agent: {} - Pick Rate: {:.2f}%\".format(agent, agent_pctg*100))\n",
    "        print(\"\")\n",
    "    print(\"\")"
   ]
  },
  {
   "cell_type": "markdown",
   "id": "0874f094",
   "metadata": {},
   "source": [
    "# Conclusão\n",
    "\n",
    "Como já dito anteriormente, esse projeto focado na análise de pickrate de mapas e agentes, desempenha um papel fundamental na compreensão das estratégias e preferências dos jogadores e equipes. Ao coletar e analisar dados sobre a frequência com que cada mapa e agente é escolhido, é possível obter insights valiosos sobre as táticas mais populares, a eficácia dos agentes em diferentes situações e as preferências das equipes competitivas.\n",
    "\n",
    "Em resumo, o uso do Web Scraping para analisar o pickrate de mapas e agentes no Valorant proporciona uma compreensão mais profunda das tendências e preferências dessas equipes. Isso auxilia as equipes no desenvolvimento de estratégias mais eficazes, na identificação de pontos fortes e fracos de cada mapa e agente, e na adaptação às mudanças no meta do jogo. Essa análise de dados é essencial para o scouting de times de Valorant e pode fazer a diferença na busca pela vitória nas competições.\n",
    "\n",
    "Por fim, a explicação para a \"pequena\" quantidade de dados é que no campeonato usado para a raspagem de dados (VCT Americas) possui 10 times, sendo 1 deles o time brasileiro para qual eu pensei em fazer esse projeto (LOUD) e 3 desses times seriam os \"rivais\" do time brasileiro (LOUD): NRG, Leviatán e Cloud9. Por serem apenas 3 times que poderiam trazer algum desconforto para a equipe brasileira campeã mundial, a quantidade de dados acabou não sendo das maiores. \n",
    "\n",
    "**Curiosidade:** A equipe brasileira LOUD acabou de ser campeã do VCT Americas, campeonato usado para coletar os dados. Segue o link: https://www.vlr.gg/189055/loud-vs-nrg-esports-champions-tour-2023-americas-league-gf"
   ]
  },
  {
   "cell_type": "code",
   "execution_count": null,
   "id": "1f75c467",
   "metadata": {},
   "outputs": [],
   "source": []
  }
 ],
 "metadata": {
  "kernelspec": {
   "display_name": "Python 3 (ipykernel)",
   "language": "python",
   "name": "python3"
  },
  "language_info": {
   "codemirror_mode": {
    "name": "ipython",
    "version": 3
   },
   "file_extension": ".py",
   "mimetype": "text/x-python",
   "name": "python",
   "nbconvert_exporter": "python",
   "pygments_lexer": "ipython3",
   "version": "3.10.2"
  }
 },
 "nbformat": 4,
 "nbformat_minor": 5
}
