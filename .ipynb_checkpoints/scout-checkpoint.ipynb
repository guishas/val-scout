{
 "cells": [
  {
   "cell_type": "code",
   "execution_count": 24,
   "id": "eff8d193",
   "metadata": {},
   "outputs": [],
   "source": [
    "# Importando bibliotecas necessárias\n",
    "\n",
    "import requests\n",
    "from bs4 import BeautifulSoup as bs\n",
    "import pandas as pd\n",
    "import json\n",
    "import os\n",
    "import wget"
   ]
  },
  {
   "cell_type": "code",
   "execution_count": 2,
   "id": "b65998f2",
   "metadata": {},
   "outputs": [],
   "source": [
    "# Funções gerais do projeto\n",
    "\n",
    "def extract_bans(bans):\n",
    "    res_dic = {\n",
    "        \"Bans\": [],\n",
    "        \"Picks\": [],\n",
    "    }\n",
    "    \n",
    "    teams_ban = bans.split(\";\")\n",
    "    for ban in teams_ban:\n",
    "        content = ban.strip().split(\" \")\n",
    "        if content[0] == \"C9\":\n",
    "            if content[1] == \"ban\":\n",
    "                res_dic[\"Bans\"].append(content[2])\n",
    "            else:\n",
    "                res_dic[\"Picks\"].append(content[2])\n",
    "    \n",
    "    return res_dic"
   ]
  },
  {
   "cell_type": "code",
   "execution_count": 3,
   "id": "dda5903d",
   "metadata": {
    "scrolled": true
   },
   "outputs": [],
   "source": [
    "# Começando análises da Cloud9\n",
    "\n",
    "c9url = \"https://www.vlr.gg/team/matches/188/cloud9\"\n",
    "\n",
    "res = requests.get(c9url)\n",
    "\n",
    "soup = bs(res.text, 'html.parser')"
   ]
  },
  {
   "cell_type": "code",
   "execution_count": 4,
   "id": "4e95ac7b",
   "metadata": {
    "scrolled": true
   },
   "outputs": [],
   "source": [
    "# Escolhendo jogos apenas do VCT Americas (mais recente)\n",
    "\n",
    "matches = soup.findAll('a', attrs = {'class': 'wf-card fc-flex m-item'})\n",
    "\n",
    "match_links = []\n",
    "\n",
    "for match in matches:\n",
    "    camp = match.find('div', attrs = {'class': 'text-of'}).text.strip().split(\":\")[0]\n",
    "    if camp == \"VCT 2023\":\n",
    "    \tmatch_links.append(c9url + match.get('href'))"
   ]
  },
  {
   "cell_type": "code",
   "execution_count": 27,
   "id": "c1168866",
   "metadata": {},
   "outputs": [
    {
     "ename": "TypeError",
     "evalue": "download() got an unexpected keyword argument 'html_extension'",
     "output_type": "error",
     "traceback": [
      "\u001b[1;31m---------------------------------------------------------------------------\u001b[0m",
      "\u001b[1;31mTypeError\u001b[0m                                 Traceback (most recent call last)",
      "Input \u001b[1;32mIn [27]\u001b[0m, in \u001b[0;36m<cell line: 6>\u001b[1;34m()\u001b[0m\n\u001b[0;32m      6\u001b[0m \u001b[38;5;28;01mfor\u001b[39;00m link \u001b[38;5;129;01min\u001b[39;00m match_links:\n\u001b[0;32m      7\u001b[0m     filename \u001b[38;5;241m=\u001b[39m link\u001b[38;5;241m.\u001b[39msplit(\u001b[38;5;124m\"\u001b[39m\u001b[38;5;124m/\u001b[39m\u001b[38;5;124m\"\u001b[39m)[\u001b[38;5;241m-\u001b[39m\u001b[38;5;241m1\u001b[39m]\u001b[38;5;241m.\u001b[39msplit(\u001b[38;5;124m\"\u001b[39m\u001b[38;5;124mchampions\u001b[39m\u001b[38;5;124m\"\u001b[39m)[\u001b[38;5;241m0\u001b[39m][:\u001b[38;5;241m-\u001b[39m\u001b[38;5;241m1\u001b[39m]\n\u001b[1;32m----> 9\u001b[0m     \u001b[43mwget\u001b[49m\u001b[38;5;241;43m.\u001b[39;49m\u001b[43mdownload\u001b[49m\u001b[43m(\u001b[49m\u001b[43mlink\u001b[49m\u001b[43m,\u001b[49m\u001b[43m \u001b[49m\u001b[43mout\u001b[49m\u001b[38;5;241;43m=\u001b[39;49m\u001b[38;5;124;43m\"\u001b[39;49m\u001b[38;5;124;43mcloud9/\u001b[39;49m\u001b[38;5;124;43m\"\u001b[39;49m\u001b[43m,\u001b[49m\u001b[43m \u001b[49m\u001b[43mhtml_extension\u001b[49m\u001b[38;5;241;43m=\u001b[39;49m\u001b[38;5;28;43;01mTrue\u001b[39;49;00m\u001b[43m)\u001b[49m\n",
      "\u001b[1;31mTypeError\u001b[0m: download() got an unexpected keyword argument 'html_extension'"
     ]
    }
   ],
   "source": [
    "# Teste\n",
    "\n",
    "if not os.path.exists(\"cloud9\"):\n",
    "    os.mkdir(\"cloud9\")\n",
    "\n",
    "for link in match_links:\n",
    "    filename = link.split(\"/\")[-1].split(\"champions\")[0][:-1]\n",
    "    \n",
    "    r = requests.get(link)\n",
    "    soup = bs(r.text, 'html.parser')\n",
    "    \n",
    "    with open(f'cloud9/{filename}.html', 'wb') as f:\n",
    "        f.write(r.content)"
   ]
  },
  {
   "cell_type": "code",
   "execution_count": 25,
   "id": "be75b827",
   "metadata": {},
   "outputs": [],
   "source": [
    "# Entrando em cada jogo e salvando as informações que desejamos em um arquivo json em uma pasta do time\n",
    "\n",
    "if not os.path.exists(\"cloud9\"):\n",
    "    os.mkdir(\"cloud9\")\n",
    "\n",
    "for link in match_links:\n",
    "    opponent = link.find('div', attrs = {'class': 'wf-title-med mod-single'}).text.strip()\n",
    "    print(f\"Raspando informações do jogo: Cloud9 vs {opponent}\")\n",
    "    \n",
    "    r = requests.get(link)\n",
    "    soup = bs(r.text, 'html.parser')\n",
    "    \n",
    "    bans = soup.find('div', attrs = {'class': 'match-header-note'})\n",
    "    c9_bans = extract_bans(bans)\n",
    "    \n",
    "    c9_score = soup.find('div', {'class': 'js-spoiler'}).find_all('span')[0].text.strip()\n",
    "    opponent_score = soup.find('div', {'class': 'js-spoiler'}).find_all('span')[2].text.strip()\n",
    "    \n",
    "    games = int(c9_score) + int(opponent_score)\n",
    "    \n",
    "    first_map_id = int(soup.find('div', {'class': 'vm-stats-gamesnav-item js-map-switch'}).get('data-game-id'))\n",
    "    \n",
    "    maps = {}\n",
    "    for gid in range(first_map_id, first_map_id+games):\n",
    "        print(f\"Raspando informações do mapa de id: {gid}\")\n",
    "        \n",
    "        map_url = f\"{link}/?game={gid}&tab=overview\"\n",
    "        r = requests.get(map_url)\n",
    "        soup = bs(r.text, 'html.parser')\n",
    "        \n",
    "        map_name = soup.find('div', attrs = {'class': 'map'}).find_all('span')[0].text.strip()\n",
    "        \n",
    "        c9_rounds = soup.find('div', attrs = {'class': 'score mod-win'}).text.strip()\n",
    "        opponent_rounds = soup.find('div', attrs = {'class': 'score '}).text.strip()\n",
    "        \n",
    "        team = soup.find('div', {'class': 'vm-stats-game mod-active'}).find_all('table')[0].find('tbody').find_all('tr')\n",
    "        \n",
    "        "
   ]
  },
  {
   "cell_type": "code",
   "execution_count": null,
   "id": "5bb0ae58",
   "metadata": {},
   "outputs": [],
   "source": []
  }
 ],
 "metadata": {
  "kernelspec": {
   "display_name": "Python 3 (ipykernel)",
   "language": "python",
   "name": "python3"
  },
  "language_info": {
   "codemirror_mode": {
    "name": "ipython",
    "version": 3
   },
   "file_extension": ".py",
   "mimetype": "text/x-python",
   "name": "python",
   "nbconvert_exporter": "python",
   "pygments_lexer": "ipython3",
   "version": "3.10.2"
  }
 },
 "nbformat": 4,
 "nbformat_minor": 5
}
